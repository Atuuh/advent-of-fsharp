{
 "cells": [
  {
   "cell_type": "markdown",
   "metadata": {},
   "source": [
    "A given 2D list of lists that represents a collection of \"rows\" can be rotated clockwise by transposing the grid and then reversing the rows\n",
    "\n",
    "\\begin{align}\n",
    "\\begin{bmatrix}\n",
    "a & b & c\\\\\n",
    "d & e & f\\\\\n",
    "g & h & i\n",
    "\\end{bmatrix}\n",
    "\\Rightarrow\n",
    "\\begin{bmatrix}\n",
    "a & d & g\\\\\n",
    "b & e & h\\\\\n",
    "c & f & i\n",
    "\\end{bmatrix}\n",
    "\\Rightarrow\n",
    "\\begin{bmatrix}\n",
    "g & d & a\\\\\n",
    "h & e & b\\\\\n",
    "i & f & c\n",
    "\\end{bmatrix}\n",
    "\\end{align}"
   ]
  },
  {
   "cell_type": "code",
   "execution_count": null,
   "metadata": {
    "dotnet_interactive": {
     "language": "fsharp"
    },
    "polyglot_notebook": {
     "kernelName": "fsharp"
    },
    "vscode": {
     "languageId": "polyglot-notebook"
    }
   },
   "outputs": [],
   "source": [
    "let rec transpose xs =\n",
    "    [ match xs with\n",
    "      | [] -> failwith \"Cannot transpose a 0-by-n matrix\"\n",
    "      | [] :: xs -> ()\n",
    "      | xs ->\n",
    "          yield List.map List.head xs\n",
    "          yield! transpose (List.map List.tail xs) ]\n",
    "\n",
    "let  rotateCW  grid= \n",
    "    grid |> transpose |> List.map List.rev\n"
   ]
  },
  {
   "cell_type": "code",
   "execution_count": null,
   "metadata": {
    "dotnet_interactive": {
     "language": "fsharp"
    },
    "polyglot_notebook": {
     "kernelName": "fsharp"
    },
    "vscode": {
     "languageId": "polyglot-notebook"
    }
   },
   "outputs": [],
   "source": [
    "let exampleGrid = [[\"a\";\"b\";\"c\"];[\"d\";\"e\";\"f\"];[\"g\";\"h\";\"i\"]]\n",
    "let printGrid grid = grid |> List.map (fun row -> String.concat \" \" row) |> String.concat \"\\n\" |> printf \"%A\"\n",
    "printGrid (rotateCW exampleGrid)"
   ]
  }
 ],
 "metadata": {
  "kernelspec": {
   "display_name": ".NET (F#)",
   "language": "F#",
   "name": ".net-fsharp"
  },
  "language_info": {
   "file_extension": ".fs",
   "mimetype": "text/x-fsharp",
   "name": "F#",
   "pygments_lexer": "fsharp",
   "version": "8.0"
  },
  "polyglot_notebook": {
   "kernelInfo": {
    "defaultKernelName": "fsharp",
    "items": [
     {
      "aliases": [],
      "name": "fsharp"
     }
    ]
   }
  }
 },
 "nbformat": 4,
 "nbformat_minor": 2
}
